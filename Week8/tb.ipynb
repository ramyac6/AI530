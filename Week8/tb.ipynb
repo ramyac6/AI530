{
 "cells": [
  {
   "cell_type": "code",
   "execution_count": 4,
   "id": "3370d3be",
   "metadata": {},
   "outputs": [
    {
     "ename": "ModuleNotFoundError",
     "evalue": "No module named 'pia'",
     "output_type": "error",
     "traceback": [
      "\u001b[0;31m---------------------------------------------------------------------------\u001b[0m",
      "\u001b[0;31mModuleNotFoundError\u001b[0m                       Traceback (most recent call last)",
      "Input \u001b[0;32mIn [4]\u001b[0m, in \u001b[0;36m<cell line: 1>\u001b[0;34m()\u001b[0m\n\u001b[0;32m----> 1\u001b[0m \u001b[38;5;28;01mfrom\u001b[39;00m \u001b[38;5;21;01mpia\u001b[39;00m \u001b[38;5;28;01mimport\u001b[39;00m \u001b[38;5;241m*\u001b[39m\n",
      "\u001b[0;31mModuleNotFoundError\u001b[0m: No module named 'pia'"
     ]
    }
   ],
   "source": [
    "from pia import *\n"
   ]
  },
  {
   "cell_type": "code",
   "execution_count": null,
   "id": "95c92330",
   "metadata": {},
   "outputs": [],
   "source": [
    "\n",
    "\n",
    "\n",
    "R = np.array([[[20,50],[10,90]],[[5,30],[75,25]]])\n",
    "P = np.array([[[0.6,0.25],[0.7,0.5]],[[0.3,0.9],[0.8,0.4]]])\n",
    "gamma = 0.80\n",
    "print(pia(gamma,R,P))\n",
    "R = np.array([[[20,50,80,36],[10,90,29,37]],[[5,30,76,12],[75,25,92,5]]])\n",
    "P = np.array([[[0.6,0.25,0.8,0.05],[0.04,0.7,0.5,0.63]],[[0.3,0.45,0.7,0.9],[0.8,0.09,0.3,0.4]]])\n",
    "gamma = 0.5\n",
    "print(pia(gamma,R,P))"
   ]
  },
  {
   "cell_type": "code",
   "execution_count": null,
   "id": "68d06720",
   "metadata": {},
   "outputs": [],
   "source": []
  },
  {
   "cell_type": "code",
   "execution_count": null,
   "id": "ab8955d5",
   "metadata": {},
   "outputs": [],
   "source": []
  }
 ],
 "metadata": {
  "kernelspec": {
   "display_name": "Python 3 (ipykernel)",
   "language": "python",
   "name": "python3"
  },
  "language_info": {
   "codemirror_mode": {
    "name": "ipython",
    "version": 3
   },
   "file_extension": ".py",
   "mimetype": "text/x-python",
   "name": "python",
   "nbconvert_exporter": "python",
   "pygments_lexer": "ipython3",
   "version": "3.8.10"
  }
 },
 "nbformat": 4,
 "nbformat_minor": 5
}
